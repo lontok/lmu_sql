{
 "cells": [
  {
   "cell_type": "markdown",
   "metadata": {},
   "source": [
    "Import the necessary libraries\n",
    "- To make a web page request\n",
    "- To decode JSON\n",
    "- To save data to a dataframe\n",
    "- To interact with an SQL database\n",
    "- To parse web pages"
   ]
  },
  {
   "cell_type": "code",
   "execution_count": null,
   "metadata": {},
   "outputs": [],
   "source": []
  },
  {
   "cell_type": "markdown",
   "metadata": {},
   "source": [
    "### Web scrape a single web page and save the results to the simplyhired_job table"
   ]
  },
  {
   "cell_type": "markdown",
   "metadata": {},
   "source": [
    "Set a variable to store the web page URL"
   ]
  },
  {
   "cell_type": "code",
   "execution_count": null,
   "metadata": {},
   "outputs": [],
   "source": []
  },
  {
   "cell_type": "markdown",
   "metadata": {},
   "source": [
    "Set a dict of parameters to pass to the URL"
   ]
  },
  {
   "cell_type": "code",
   "execution_count": null,
   "metadata": {},
   "outputs": [],
   "source": []
  },
  {
   "cell_type": "markdown",
   "metadata": {},
   "source": [
    "Make a GET request with the defined URL and the dict of parameters"
   ]
  },
  {
   "cell_type": "code",
   "execution_count": null,
   "metadata": {},
   "outputs": [],
   "source": []
  },
  {
   "cell_type": "markdown",
   "metadata": {},
   "source": [
    "Confirm the GET request received a 200 HTTP status code"
   ]
  },
  {
   "cell_type": "code",
   "execution_count": null,
   "metadata": {},
   "outputs": [],
   "source": []
  },
  {
   "cell_type": "markdown",
   "metadata": {},
   "source": [
    "View the text in the GET request result"
   ]
  },
  {
   "cell_type": "code",
   "execution_count": null,
   "metadata": {},
   "outputs": [],
   "source": []
  },
  {
   "cell_type": "markdown",
   "metadata": {},
   "source": [
    "Create an object of the BeautifulSoup class to parse the web page text with the html.parser parser option"
   ]
  },
  {
   "cell_type": "code",
   "execution_count": null,
   "metadata": {},
   "outputs": [],
   "source": []
  },
  {
   "cell_type": "markdown",
   "metadata": {},
   "source": [
    "Print the BeautifulSoup object as a nicely (pretty) formatted string"
   ]
  },
  {
   "cell_type": "code",
   "execution_count": null,
   "metadata": {},
   "outputs": [],
   "source": []
  },
  {
   "cell_type": "markdown",
   "metadata": {},
   "source": [
    "Open the URL in Chrome. Inspect the elements to find a pattern between the jobs.\n",
    "\n",
    "Identify the tag, attribute, and attribute value for the outermost portion of each job.\n",
    "\n",
    "Do a findAll to assign a list of jobs to a variable."
   ]
  },
  {
   "cell_type": "code",
   "execution_count": null,
   "metadata": {},
   "outputs": [],
   "source": []
  },
  {
   "cell_type": "markdown",
   "metadata": {},
   "source": [
    "Print out the variable containing the list of jobs"
   ]
  },
  {
   "cell_type": "code",
   "execution_count": null,
   "metadata": {},
   "outputs": [],
   "source": []
  },
  {
   "cell_type": "markdown",
   "metadata": {},
   "source": [
    "- Create a dictionary to hold the job details. Initialize the dictionary values to an empty list for each key.\n",
    "\n",
    "\n",
    "- Loop through the jobs\n",
    "    - Assign the JSON values you will eventually store in a table to a variable\n",
    "    - Append the variable to the appropriate key for the dictionary initialized above\n",
    "    - Print out the variable value\n",
    "    - To delimit each article, print out a line of repeating non-alphanumeric characters of your choice"
   ]
  },
  {
   "cell_type": "code",
   "execution_count": null,
   "metadata": {},
   "outputs": [],
   "source": []
  },
  {
   "cell_type": "markdown",
   "metadata": {},
   "source": [
    "Print out the contents of the job details dictionary"
   ]
  },
  {
   "cell_type": "code",
   "execution_count": null,
   "metadata": {},
   "outputs": [],
   "source": []
  },
  {
   "cell_type": "markdown",
   "metadata": {},
   "source": [
    "Assign the job details dictionary to a dataframe"
   ]
  },
  {
   "cell_type": "code",
   "execution_count": null,
   "metadata": {},
   "outputs": [],
   "source": []
  },
  {
   "cell_type": "markdown",
   "metadata": {},
   "source": [
    "Print out the first 5 rows of the dataframe"
   ]
  },
  {
   "cell_type": "code",
   "execution_count": null,
   "metadata": {},
   "outputs": [],
   "source": []
  },
  {
   "cell_type": "markdown",
   "metadata": {},
   "source": [
    "Establish a connection to your assignment_02 database.\n",
    "\n",
    "Append ?charset=utf8 to the database name to avoide codec errors."
   ]
  },
  {
   "cell_type": "code",
   "execution_count": null,
   "metadata": {},
   "outputs": [],
   "source": []
  },
  {
   "cell_type": "markdown",
   "metadata": {},
   "source": [
    "Insert the dataframe contents to the simplyhired_job table you previously created.\n",
    "\n",
    "Ensure your variables in the jobs for loop matches the table's column names. \n",
    "\n",
    "Set the if_exists argument to append to insert into the table you already created.\n",
    "\n",
    "Do not insert the dataframe's index column."
   ]
  },
  {
   "cell_type": "code",
   "execution_count": null,
   "metadata": {},
   "outputs": [],
   "source": []
  },
  {
   "cell_type": "markdown",
   "metadata": {},
   "source": [
    "### Clear out the simplyhired_job table before proceeding. \n",
    "Run the following SQL in phpMyAdmin or TablePlus:\n",
    "\n",
    "TRUNCATE TABLE simplyhired_job;\n"
   ]
  },
  {
   "cell_type": "markdown",
   "metadata": {},
   "source": [
    "### Make 10 requests for the SimplyHired search page to scrape 100+ jobs and save the results to the simplyhired_job table\n",
    "A single job search request only returns ~10 jobs. Use the pn parameter to \"paginate\" through the results.\n",
    "\n",
    "The range function returns a range of numbers. range(1,11) returns 1-10.\n",
    "\n",
    "Replace the placeholders denoted by \\~ALL_CAPS\\~."
   ]
  },
  {
   "cell_type": "code",
   "execution_count": null,
   "metadata": {},
   "outputs": [],
   "source": [
    "for ~PAGE_VARIABLE~ in range(1,11):\n",
    "    print('Page:', ~PAGE_VARIABLE~)\n",
    "    \n",
    "    url = ~WEB_PAGE_URL~\n",
    "    params = {'q':~KEYWORD~, 'pn':~PAGE_VARIABLE~}\n",
    "    \n",
    "    ~MAKE_WEB_PAGE_REQUEST~\n",
    "    \n",
    "    ~CREATE_BEAUTIFULSOUP_OBJECT_TO_PARSE_WEB_PAGE~\n",
    "\n",
    "    ~FIND_ALL_JOBS_AND_ASSIGN_TO_A_VARIABLE~\n",
    "\n",
    "    ~INITIALIZE_DICTIONARY_TO_STORE_JOB_DETAILS~\n",
    "\n",
    "    ~LOOP_THROUGH_JOBS~\n",
    "    \n",
    "        ~TITLE~\n",
    "\n",
    "        ~COMPANY~\n",
    "\n",
    "        ~LOCATION~\n",
    "\n",
    "        ~LINK~\n",
    "\n",
    "        ~PRINT_NONALPHANUMERIC_JOB_DELIMITER~\n",
    "        \n",
    "    ~ASSIGN_JOBS_DICTIONARY_TO_A_DATAFRAME~\n",
    "    \n",
    "    ~INSERT_DATAFRAME_INTO_simplyhired_job_TABLE_WITH_if_exists_append_OPTION~"
   ]
  },
  {
   "cell_type": "markdown",
   "metadata": {},
   "source": [
    "Confirm 100+ jobs were properly inserted into the simplyhired_job table. No need to provide proof. I will be running a SELECT on the table."
   ]
  }
 ],
 "metadata": {
  "kernelspec": {
   "display_name": "Python 3",
   "language": "python",
   "name": "python3"
  },
  "language_info": {
   "codemirror_mode": {
    "name": "ipython",
    "version": 3
   },
   "file_extension": ".py",
   "mimetype": "text/x-python",
   "name": "python",
   "nbconvert_exporter": "python",
   "pygments_lexer": "ipython3",
   "version": "3.7.6"
  }
 },
 "nbformat": 4,
 "nbformat_minor": 4
}
