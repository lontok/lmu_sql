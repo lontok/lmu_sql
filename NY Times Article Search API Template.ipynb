{
 "cells": [
  {
   "cell_type": "markdown",
   "metadata": {},
   "source": [
    "Import the necessary libraries\n",
    "- To make an API request\n",
    "- To decode JSON\n",
    "- To save data to a dataframe\n",
    "- To interact with a SQL database"
   ]
  },
  {
   "cell_type": "code",
   "execution_count": null,
   "metadata": {},
   "outputs": [],
   "source": []
  },
  {
   "cell_type": "markdown",
   "metadata": {},
   "source": [
    "### Make a single API request and save the results to the nyt_article table"
   ]
  },
  {
   "cell_type": "markdown",
   "metadata": {},
   "source": [
    "Set a variable to store the API endpoint URL"
   ]
  },
  {
   "cell_type": "code",
   "execution_count": null,
   "metadata": {},
   "outputs": [],
   "source": []
  },
  {
   "cell_type": "markdown",
   "metadata": {},
   "source": [
    "Set a dict of parameters to pass to the API endpoint URL"
   ]
  },
  {
   "cell_type": "code",
   "execution_count": null,
   "metadata": {},
   "outputs": [],
   "source": []
  },
  {
   "cell_type": "markdown",
   "metadata": {},
   "source": [
    "Make an API GET request with the defined API endpoint URL and the dict of parameters"
   ]
  },
  {
   "cell_type": "code",
   "execution_count": null,
   "metadata": {},
   "outputs": [],
   "source": []
  },
  {
   "cell_type": "markdown",
   "metadata": {},
   "source": [
    "Confirm the API request received a 200 HTTP status code"
   ]
  },
  {
   "cell_type": "code",
   "execution_count": null,
   "metadata": {},
   "outputs": [],
   "source": []
  },
  {
   "cell_type": "markdown",
   "metadata": {},
   "source": [
    "View the text in the API request result"
   ]
  },
  {
   "cell_type": "code",
   "execution_count": null,
   "metadata": {},
   "outputs": [],
   "source": []
  },
  {
   "cell_type": "markdown",
   "metadata": {},
   "source": [
    "Decode the API result text as JSON"
   ]
  },
  {
   "cell_type": "code",
   "execution_count": null,
   "metadata": {},
   "outputs": [],
   "source": []
  },
  {
   "cell_type": "markdown",
   "metadata": {},
   "source": [
    "Assign the decoded API request JSON result to a variable"
   ]
  },
  {
   "cell_type": "code",
   "execution_count": null,
   "metadata": {},
   "outputs": [],
   "source": []
  },
  {
   "cell_type": "markdown",
   "metadata": {},
   "source": [
    "Print out the dictionary value for the key containing the list of articles in the decoded API request JSON result"
   ]
  },
  {
   "cell_type": "code",
   "execution_count": null,
   "metadata": {
    "scrolled": true
   },
   "outputs": [],
   "source": []
  },
  {
   "cell_type": "markdown",
   "metadata": {},
   "source": [
    "Assign the list of articles to a variable that will be later used to loop through"
   ]
  },
  {
   "cell_type": "code",
   "execution_count": null,
   "metadata": {},
   "outputs": [],
   "source": []
  },
  {
   "cell_type": "markdown",
   "metadata": {},
   "source": [
    "Confirm the type of variable for the list of articles variable"
   ]
  },
  {
   "cell_type": "code",
   "execution_count": null,
   "metadata": {},
   "outputs": [],
   "source": []
  },
  {
   "cell_type": "markdown",
   "metadata": {},
   "source": [
    "- Create a dictionary to hold the article details. Initialize the dictionary values to an empty list for each key.  \n",
    "\n",
    "\n",
    "- Loop through the articles\n",
    "    - Assign the JSON values you will eventually store in a table to a variable\n",
    "    - Convert the pub_date to a [datetime format](https://www.geeksforgeeks.org/python-pandas-to_datetime/)\n",
    "    - Append the variable to the appropriate key for the dictionary initialized above\n",
    "    - Print out the variable value\n",
    "    - To delimit each article, print out a line of repeating non-alphanumeric characters of your choice"
   ]
  },
  {
   "cell_type": "code",
   "execution_count": null,
   "metadata": {
    "scrolled": false
   },
   "outputs": [],
   "source": []
  },
  {
   "cell_type": "markdown",
   "metadata": {},
   "source": [
    "Print out the contents of the article details dictionary"
   ]
  },
  {
   "cell_type": "code",
   "execution_count": null,
   "metadata": {},
   "outputs": [],
   "source": []
  },
  {
   "cell_type": "markdown",
   "metadata": {},
   "source": [
    "Assign the article details dictionary to a dataframe"
   ]
  },
  {
   "cell_type": "code",
   "execution_count": null,
   "metadata": {},
   "outputs": [],
   "source": []
  },
  {
   "cell_type": "markdown",
   "metadata": {},
   "source": [
    "Print out the first 5 rows of the dataframe"
   ]
  },
  {
   "cell_type": "code",
   "execution_count": null,
   "metadata": {},
   "outputs": [],
   "source": []
  },
  {
   "cell_type": "markdown",
   "metadata": {},
   "source": [
    "Establish a connection to your assignment_02 database "
   ]
  },
  {
   "cell_type": "code",
   "execution_count": null,
   "metadata": {},
   "outputs": [],
   "source": []
  },
  {
   "cell_type": "markdown",
   "metadata": {},
   "source": [
    "Insert the dataframe contents to the nyt_article table you previously created.\n",
    "\n",
    "Ensure your variables in the articles for loop matches the table's column names. \n",
    "\n",
    "Set the if_exists argument to append to insert into the table you already created.\n",
    "\n",
    "Do not insert the dataframe's index column."
   ]
  },
  {
   "cell_type": "code",
   "execution_count": null,
   "metadata": {},
   "outputs": [],
   "source": []
  },
  {
   "cell_type": "markdown",
   "metadata": {},
   "source": [
    "---"
   ]
  },
  {
   "cell_type": "markdown",
   "metadata": {},
   "source": [
    "### Clear out the nyt_article table before proceeding. \n",
    "Run the following SQL in phpMyAdmin or TablePlus:\n",
    "\n",
    "TRUNCATE TABLE nyt_article;\n"
   ]
  },
  {
   "cell_type": "markdown",
   "metadata": {},
   "source": [
    "---"
   ]
  },
  {
   "cell_type": "markdown",
   "metadata": {},
   "source": [
    "### Make 10 requests to the API to collect 100 articles and save the results to the nyt_article table\n",
    "A single API requests only returns 10 articles. Use the page parameter to \"paginate\" through the results.\n",
    "\n",
    "The range function returns a range of numbers. range(10) returns 0-9.\n",
    "\n",
    "Replace the placeholders denoted by \\~ALL_CAPS\\~."
   ]
  },
  {
   "cell_type": "code",
   "execution_count": null,
   "metadata": {},
   "outputs": [],
   "source": [
    "for ~PAGE_VARIABLE~ in range(10):\n",
    "    print('Page:', ~PAGE_VARIABLE~)\n",
    "        \n",
    "    api_url = ~API_ENDPOINT_URL~\n",
    "    params = {'api-key':~API_KEY~, 'page':~PAGE_VARIABLE~, 'begin_date':~BEGIN_DATE~, 'end_date':~END_DATE~, 'q':~KEYWORD~}\n",
    "\n",
    "    ~MAKE_API_REQUEST~\n",
    "\n",
    "    ~DECODE_JSON_API_REQUESTS_RESULTS_AND_ASSIGN_TO_A_VARIABLE~\n",
    "\n",
    "    ~ASSIGN_ARTICLES_LIST_TO_A_VARIABLE~\n",
    "\n",
    "    ~INITIALIZE_DICTIONARY_TO_STORE_ARTICLE_DETAILS~\n",
    "\n",
    "    ~LOOP_THROUGH_ARTICLES~\n",
    "        \n",
    "        ~WEB_URL~\n",
    "        \n",
    "        ~MAIN_HEADLINE~\n",
    "        \n",
    "        ~DOCUMENT_TYPE~\n",
    "\n",
    "        ~PUB_DATE~\n",
    "\n",
    "        ~WORD_COUNT~\n",
    "\n",
    "        ~TYPE_OF_MATERIAL~\n",
    "\n",
    "        ~PRINT_NONALPHANUMERIC_ARTICLE_DELIMITER~\n",
    "        \n",
    "    ~ASSIGN_ARTICLES_DICTIONARY_TO_A_DATAFRAME~\n",
    "    \n",
    "    ~INSERT_DATAFRAME_INTO_nyt_article_TABLE_WITH_if_exists_append_OPTION~\n",
    "    "
   ]
  },
  {
   "cell_type": "markdown",
   "metadata": {},
   "source": [
    "Confirm 100 articles were properly inserted into the nyt_article table. No need to provide proof. I will be running a SELECT on the table."
   ]
  }
 ],
 "metadata": {
  "kernelspec": {
   "display_name": "Python 3",
   "language": "python",
   "name": "python3"
  },
  "language_info": {
   "codemirror_mode": {
    "name": "ipython",
    "version": 3
   },
   "file_extension": ".py",
   "mimetype": "text/x-python",
   "name": "python",
   "nbconvert_exporter": "python",
   "pygments_lexer": "ipython3",
   "version": "3.7.6"
  }
 },
 "nbformat": 4,
 "nbformat_minor": 4
}
